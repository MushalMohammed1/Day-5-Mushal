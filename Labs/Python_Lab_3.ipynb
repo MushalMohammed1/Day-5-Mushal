{
 "cells": [
  {
   "cell_type": "markdown",
   "metadata": {},
   "source": [
    "# Python_Lab_3\n"
   ]
  },
  {
   "cell_type": "markdown",
   "metadata": {},
   "source": [
    "### Task 1\n",
    "- Write a function named **'create_student_records'** that takes a list of tuples. Each tuple contains a student's name and their scores in three subjects. The function should return a list of dictionaries, where each dictionary represents a student with keys: name, subject1, subject2, subject3. Use list comprehension to create the list of dictionaries."
   ]
  },
  {
   "cell_type": "code",
   "execution_count": 1,
   "metadata": {},
   "outputs": [
    {
     "name": "stdout",
     "output_type": "stream",
     "text": [
      "[{'name': 'John Doe', 'subject1': 88, 'subject2': 92, 'subject3': 77}, {'name': 'Jane Smith', 'subject1': 79, 'subject2': 84, 'subject3': 91}, {'name': 'Alice Johnson', 'subject1': 92, 'subject2': 90, 'subject3': 85}]\n"
     ]
    }
   ],
   "source": [
    "def create_student_records(students):\n",
    "    return [\n",
    "        {\n",
    "            \"name\": name,\n",
    "            \"subject1\": subject1,\n",
    "            \"subject2\": subject2,\n",
    "            \"subject3\": subject3,\n",
    "        }\n",
    "        for name, subject1, subject2, subject3 in students\n",
    "    ]\n",
    "\n",
    "\n",
    "students = [\n",
    "    (\"John Doe\", 88, 92, 77),\n",
    "    (\"Jane Smith\", 79, 84, 91),\n",
    "    (\"Alice Johnson\", 92, 90, 85)\n",
    "]\n",
    "\n",
    "student_records = create_student_records(students)\n",
    "print(student_records)\n"
   ]
  },
  {
   "cell_type": "markdown",
   "metadata": {},
   "source": [
    "### Task 2\n",
    "- Write a function named **'filter_and_sort_students'** that takes the list of dictionaries from Question 1 and returns a sorted list of student names who have an average score of 80 or more across all subjects. Sort the names in alphabetical order."
   ]
  },
  {
   "cell_type": "code",
   "execution_count": 2,
   "metadata": {},
   "outputs": [
    {
     "name": "stdout",
     "output_type": "stream",
     "text": [
      "['Alice Johnson', 'Jane Smith', 'John Doe']\n"
     ]
    }
   ],
   "source": [
    "def filter_and_sort_students(student_records):\n",
    "    \n",
    "    qualified_students = [\n",
    "        student['name']\n",
    "        for student in student_records\n",
    "        if (student['subject1'] + student['subject2'] + student['subject3']) / 3 >= 80\n",
    "    ]\n",
    "    return sorted(qualified_students)\n",
    "\n",
    "\n",
    "students = [\n",
    "    (\"John Doe\", 88, 92, 77),\n",
    "    (\"Jane Smith\", 79, 84, 91),\n",
    "    (\"Alice Johnson\", 92, 90, 85)\n",
    "]\n",
    "\n",
    "student_records = create_student_records(students)\n",
    "qualified_students = filter_and_sort_students(student_records)\n",
    "print(qualified_students)\n"
   ]
  },
  {
   "cell_type": "markdown",
   "metadata": {},
   "source": [
    "### Task 3\n",
    "- Write a function named **'get_product_info'** that prompts the user to enter information about a product. The function should ask for the product name, product price, and product quantity. If the user enters an invalid input (e.g., a non-numeric value for the price or quantity), the function should handle the error and prompt the user to enter the value again. Return a dictionary containing the product information."
   ]
  },
  {
   "cell_type": "code",
   "execution_count": null,
   "metadata": {},
   "outputs": [],
   "source": [
    "def get_product_info():\n",
    "    product_info = {}\n",
    "\n",
    "\n",
    "    product_info['name'] = input(\"Enter the product name: \")\n",
    "\n",
    "    \n",
    "    while True:\n",
    "        try:\n",
    "            product_info['price'] = float(input(\"Enter the product price: \"))\n",
    "            break\n",
    "        except ValueError:\n",
    "            print(\"Invalid input. Please enter a numeric value for the price.\")\n",
    "\n",
    "\n",
    "    while True:\n",
    "        try:\n",
    "            product_info['quantity'] = int(input(\"Enter the product quantity: \"))\n",
    "            break\n",
    "        except ValueError:\n",
    "            print(\"Invalid input. Please enter a numeric value for the quantity.\")\n",
    "\n",
    "    return product_info\n",
    "\n",
    "product_info = get_product_info()\n",
    "print(\"Product Information:\", product_info)\n"
   ]
  },
  {
   "cell_type": "markdown",
   "metadata": {},
   "source": [
    "### Task 4\n",
    "- Write a function named **'get_even_numbers'** that takes a list of integers and returns a list of even numbers using list comprehension."
   ]
  },
  {
   "cell_type": "code",
   "execution_count": 5,
   "metadata": {},
   "outputs": [
    {
     "name": "stdout",
     "output_type": "stream",
     "text": [
      "Even Numbers: [2, 4, 6, 8, 10]\n"
     ]
    }
   ],
   "source": [
    "def get_even_numbers(numbers):\n",
    "    \n",
    "    even_numbers = [num for num in numbers if num % 2 == 0]\n",
    "    return even_numbers\n",
    "\n",
    "\n",
    "numbers = [1, 2, 3, 4, 5, 6, 7, 8, 9, 10]\n",
    "even_numbers = get_even_numbers(numbers)\n",
    "print(\"Even Numbers:\", even_numbers)\n"
   ]
  },
  {
   "cell_type": "markdown",
   "metadata": {},
   "source": [
    "### Task 5\n",
    "- Write a function named **'pair_elements'** that takes two lists of equal length as parameters and returns a list of tuples, where each tuple contains corresponding elements from the two lists. Use the zip function to achieve this."
   ]
  },
  {
   "cell_type": "markdown",
   "metadata": {},
   "source": []
  },
  {
   "cell_type": "code",
   "execution_count": 6,
   "metadata": {},
   "outputs": [
    {
     "name": "stdout",
     "output_type": "stream",
     "text": [
      "Paired Elements: [(1, 'a'), (2, 'b'), (3, 'c'), (4, 'd')]\n"
     ]
    }
   ],
   "source": [
    "def pair_elements(list1, list2):\n",
    "    \n",
    "    if len(list1) != len(list2):\n",
    "        raise ValueError(\"Both lists must be of equal length\")\n",
    "\n",
    "    \n",
    "    paired_elements = list(zip(list1, list2))\n",
    "    return paired_elements\n",
    "\n",
    "\n",
    "list1 = [1, 2, 3, 4]\n",
    "list2 = ['a', 'b', 'c', 'd']\n",
    "paired_elements = pair_elements(list1, list2)\n",
    "print(\"Paired Elements:\", paired_elements)\n"
   ]
  },
  {
   "cell_type": "markdown",
   "metadata": {},
   "source": [
    "### Task 6\n",
    "- Write a function named **'square_dict_lambda'** that takes a list of integers and returns a dictionary where the keys are the integers and the values are their squares. Use a lambda function within a dictionary comprehension to achieve this."
   ]
  },
  {
   "cell_type": "code",
   "execution_count": 7,
   "metadata": {},
   "outputs": [
    {
     "name": "stdout",
     "output_type": "stream",
     "text": [
      "{1: 1, 2: 4, 3: 9, 4: 16, 5: 25}\n"
     ]
    }
   ],
   "source": [
    "def square_dict_lambda(numbers):\n",
    "    return {x: (lambda y: y**2)(x) for x in numbers}\n",
    "\n",
    "# Example usage\n",
    "numbers = [1, 2, 3, 4, 5]\n",
    "result = square_dict_lambda(numbers)\n",
    "print(result)\n"
   ]
  }
 ],
 "metadata": {
  "kernelspec": {
   "display_name": "Python 3",
   "language": "python",
   "name": "python3"
  },
  "language_info": {
   "codemirror_mode": {
    "name": "ipython",
    "version": 3
   },
   "file_extension": ".py",
   "mimetype": "text/x-python",
   "name": "python",
   "nbconvert_exporter": "python",
   "pygments_lexer": "ipython3",
   "version": "3.11.1"
  }
 },
 "nbformat": 4,
 "nbformat_minor": 2
}
